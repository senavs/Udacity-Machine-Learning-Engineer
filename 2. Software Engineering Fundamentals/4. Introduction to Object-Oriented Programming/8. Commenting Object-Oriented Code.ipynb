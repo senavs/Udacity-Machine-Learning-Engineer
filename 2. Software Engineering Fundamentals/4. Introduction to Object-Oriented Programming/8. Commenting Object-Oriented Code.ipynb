{
 "cells": [
  {
   "cell_type": "markdown",
   "metadata": {},
   "source": [
    "# Commenting Object-Oriented Code"
   ]
  },
  {
   "cell_type": "markdown",
   "metadata": {},
   "source": [
    "Did you notice anything special about the answer key in the previous exercise? The Pants class and the SalesPerson class contained docstrings! A docstring is a type of comment that describes how a Python module, function, class or method works. Docstrings, therefore, are not unique to object-oriented programming. This section of the course is merely reminding you to use docstrings and to comment your code. It's not just going to help you understand and maintain your code. It will also make you a better job candidate.\n",
    "\n",
    "From this point on, please always comment your code. Use both in-line comments and document level comments as appropriate.\n",
    "\n",
    "Check out this link to [read more](!https://sphinxcontrib-napoleon.readthedocs.io/en/latest/example_google.html) about docstrings."
   ]
  },
  {
   "cell_type": "markdown",
   "metadata": {},
   "source": [
    "# Docstrings and Object-Oriented Code"
   ]
  },
  {
   "cell_type": "markdown",
   "metadata": {},
   "source": [
    "Below is an example of a class with docstrings and a few things to keep in mind:\n",
    "- Make sure to indent your docstrings correctly or the code will not run. A docstring should be indented one indentation underneath the class or method being described.\n",
    "- You don't have to define 'self' in your method docstrings. It's understood that any method will have self as the first method input."
   ]
  },
  {
   "cell_type": "markdown",
   "metadata": {},
   "source": [
    "```python\n",
    "class Pants:\n",
    "    \"\"\"The Pants class represents an article of clothing sold in a store\n",
    "    \"\"\"\n",
    "\n",
    "    def __init__(self, color, waist_size, length, price):\n",
    "        \"\"\"Method for initializing a Pants object\n",
    "\n",
    "        Args: \n",
    "            color (str)\n",
    "            waist_size (int)\n",
    "            length (int)\n",
    "            price (float)\n",
    "\n",
    "        Attributes:\n",
    "            color (str): color of a pants object\n",
    "            waist_size (str): waist size of a pants object\n",
    "            length (str): length of a pants object\n",
    "            price (float): price of a pants object\n",
    "        \"\"\"\n",
    "\n",
    "        self.color = color\n",
    "        self.waist_size = waist_size\n",
    "        self.length = length\n",
    "        self.price = price\n",
    "\n",
    "    def change_price(self, new_price):\n",
    "        \"\"\"The change_price method changes the price attribute of a pants object\n",
    "\n",
    "        Args: \n",
    "            new_price (float): the new price of the pants object\n",
    "\n",
    "        Returns: None\n",
    "\n",
    "        \"\"\"\n",
    "        self.price = new_price\n",
    "\n",
    "    def discount(self, percentage):\n",
    "        \"\"\"The discount method outputs a discounted price of a pants object\n",
    "\n",
    "        Args:\n",
    "            percentage (float): a decimal representing the amount to discount\n",
    "\n",
    "        Returns:\n",
    "            float: the discounted price\n",
    "        \"\"\"\n",
    "        return self.price * (1 - percentage)\n",
    "```"
   ]
  },
  {
   "cell_type": "code",
   "execution_count": null,
   "metadata": {},
   "outputs": [],
   "source": []
  }
 ],
 "metadata": {
  "kernelspec": {
   "display_name": "Python 3",
   "language": "python",
   "name": "python3"
  },
  "language_info": {
   "codemirror_mode": {
    "name": "ipython",
    "version": 3
   },
   "file_extension": ".py",
   "mimetype": "text/x-python",
   "name": "python",
   "nbconvert_exporter": "python",
   "pygments_lexer": "ipython3",
   "version": "3.7.3"
  }
 },
 "nbformat": 4,
 "nbformat_minor": 4
}
