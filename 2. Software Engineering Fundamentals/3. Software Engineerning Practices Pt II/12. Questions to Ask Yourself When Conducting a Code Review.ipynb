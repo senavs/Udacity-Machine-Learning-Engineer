{
 "cells": [
  {
   "cell_type": "markdown",
   "metadata": {},
   "source": [
    "First, let's look over some of the questions we may ask ourselves while reviewing code. These are simply from the concepts we've covered in these last two lessons!"
   ]
  },
  {
   "cell_type": "markdown",
   "metadata": {},
   "source": [
    "Is the code clean and modular?\n",
    "- Can I understand the code easily?\n",
    "- Does it use meaningful names and whitespace?\n",
    "- Is there duplicated code?\n",
    "- Can you provide another layer of abstraction?\n",
    "- Is each function and module necessary?\n",
    "- Is each function or module too long?"
   ]
  },
  {
   "cell_type": "markdown",
   "metadata": {},
   "source": [
    "Is the code efficient?\n",
    "- Are there loops or other steps we can vectorize?\n",
    "- Can we use better data structures to optimize any steps?\n",
    "- Can we shorten the number of calculations needed for any steps?\n",
    "- Can we use generators or multiprocessing to optimize any steps?"
   ]
  },
  {
   "cell_type": "markdown",
   "metadata": {},
   "source": [
    "Is documentation effective?\n",
    "- Are in-line comments concise and meaningful?\n",
    "- Is there complex code that's missing documentation?\n",
    "- Do function use effective docstrings?\n",
    "- Is the necessary project documentation provided?"
   ]
  },
  {
   "cell_type": "markdown",
   "metadata": {},
   "source": [
    "Is the code well tested?\n",
    "- Does the code high test coverage?\n",
    "- Do tests check for interesting cases?\n",
    "- Are the tests readable?\n",
    "- Can the tests be made more efficient?"
   ]
  },
  {
   "cell_type": "markdown",
   "metadata": {},
   "source": [
    "Is the logging effective?\n",
    "- Are log messages clear, concise, and professional?\n",
    "- Do they include all relevant and useful information?\n",
    "- Do they use the appropriate logging level?"
   ]
  },
  {
   "cell_type": "code",
   "execution_count": null,
   "metadata": {},
   "outputs": [],
   "source": []
  }
 ],
 "metadata": {
  "kernelspec": {
   "display_name": "Python 3",
   "language": "python",
   "name": "python3"
  },
  "language_info": {
   "codemirror_mode": {
    "name": "ipython",
    "version": 3
   },
   "file_extension": ".py",
   "mimetype": "text/x-python",
   "name": "python",
   "nbconvert_exporter": "python",
   "pygments_lexer": "ipython3",
   "version": "3.7.3"
  }
 },
 "nbformat": 4,
 "nbformat_minor": 4
}
